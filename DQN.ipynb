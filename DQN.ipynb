{
 "cells": [
  {
   "cell_type": "code",
   "execution_count": 27,
   "metadata": {},
   "outputs": [],
   "source": [
    "import numpy as np\n",
    "import gym\n",
    "import random\n",
    "import math\n",
    "\n",
    "from sklearn.preprocessing import KBinsDiscretizer\n",
    "import time\n",
    "from typing import Tuple\n",
    "import tensorflow as tf\n",
    "import datetime"
   ]
  },
  {
   "cell_type": "code",
   "execution_count": 28,
   "metadata": {},
   "outputs": [],
   "source": [
    "import warnings\n",
    "warnings.filterwarnings('ignore')"
   ]
  },
  {
   "cell_type": "code",
   "execution_count": 29,
   "metadata": {},
   "outputs": [],
   "source": [
    "# Set Seeds:\n",
    "np.random.seed(0)\n",
    "random.seed(0)"
   ]
  },
  {
   "cell_type": "code",
   "execution_count": 30,
   "metadata": {},
   "outputs": [],
   "source": [
    "logdir = \"./logs/\"+datetime.datetime.now().strftime(\"%Y%m%d-%H%M%S\")\n",
    "writer = tf.summary.create_file_writer(logdir=logdir, name=\"q_learning\")"
   ]
  },
  {
   "cell_type": "code",
   "execution_count": 31,
   "metadata": {},
   "outputs": [],
   "source": [
    "# define Q_learning class\n",
    "\n",
    "class QLearning:\n",
    "    def __init__(self, n_state, n_action) -> None:\n",
    "        self.num_states = n_state\n",
    "        self.num_actions = n_action\n",
    "        self.q_table = np.zeros((3,6,6,12)+(2,))\n"
   ]
  },
  {
   "cell_type": "code",
   "execution_count": 32,
   "metadata": {},
   "outputs": [],
   "source": [
    "#define agent Class\n",
    "\n",
    "class QAgent:\n",
    "\n",
    "    def __init__(self, env) -> None:\n",
    "        self.env = env\n",
    "        self.num_states = env.observation_space.shape[0] # number of states\n",
    "        self.num_actions = env.action_space.n # num of actions\n",
    "        self.learning_rate = 0.0001\n",
    "        self.gamma = 0.99 # discount factor\n",
    "        self.epsilon_max = 1.0\n",
    "        self.epsilon_min = 0.01\n",
    "        self.epsilon_decay = 0.005\n",
    "        self.epsilon = self.epsilon_max # initial epsilon\n",
    "\n",
    "        # Q Learning algorithm\n",
    "        self.q_learning = QLearning(self.num_states,self.num_actions)\n",
    "    \n",
    "\n",
    "    def discretizer(self, position , velocity , angle, pole_velocity ) -> Tuple[int,...]:\n",
    "        \"\"\"\n",
    "        Convert continues state intro a discrete state\n",
    "        Link: https://www.youtube.com/watch?v=KMjQmG5Uzis \n",
    "        Link 2: https://github.com/RJBrooker/Q-learning-demo-Cartpole-V1/blob/master/cartpole.ipynb\n",
    "        \"\"\"\n",
    "        n_bins = (3, 6, 6 , 12 )\n",
    "        lower_bounds = [self.env.observation_space.low[0],-12.0, self.env.observation_space.low[2], -math.radians(50) ]\n",
    "        upper_bounds = [self.env.observation_space.high[0], 12.0, self.env.observation_space.high[2], math.radians(50) ]\n",
    "        est = KBinsDiscretizer(n_bins=n_bins, encode='ordinal', strategy='uniform')\n",
    "        est.fit([lower_bounds, upper_bounds ])\n",
    "        return tuple(map(int,est.transform([[position, velocity, angle, pole_velocity]])[0]))\n",
    "\n",
    "\n",
    "    \n",
    "    def exploration_exploitation(self, state):\n",
    "        rand_epsilon = random.uniform(0,1) # get random epsilon value for exploration/explotation\n",
    "\n",
    "        if rand_epsilon <= self.epsilon:\n",
    "            # explore the environment\n",
    "            return self.env.action_space.sample()\n",
    "        else:\n",
    "            # exploit the environment. return action with max q value\n",
    "            return np.argmax(self.q_learning.q_table[state])\n",
    "    \n",
    "    def explorationRate(self, epoch, min_rate=0.1):\n",
    "        return max(min_rate,min(1,1.0-math.log10((epoch+1)/25)))\n",
    "    def learning_rate_update(self, epoch, min_rate=0.01):\n",
    "        return max(min_rate, min(1.0,1.0-math.log10((epoch+1)/25)))\n",
    "    # Learn Q values\n",
    "    def learn_environment(self,state, action, reward, next_state, episode):\n",
    "        \"\"\"\n",
    "        Formula: Q(state, action) = old q value + learning rate *(current reward + discount factor* optimal q value from next state-old_q_value)\n",
    "        \"\"\"\n",
    "        self.learning_rate = self.learning_rate_update(episode)\n",
    "        self.q_learning.q_table[state][action] += self.learning_rate*(reward+self.gamma*np.max(self.q_learning.q_table[next_state])-self.q_learning.q_table[state][action])\n",
    "        self.epsilon = self.explorationRate(episode)\n",
    "\n",
    "    def train(self):\n",
    "        for episode in range(2000):\n",
    "            # reset environment\n",
    "            observation, _ = self.env.reset()\n",
    "            observation = self.discretizer(*observation)\n",
    "            # run upto this number of step in each episodes\n",
    "            ep_reward = 0\n",
    "            done = False\n",
    "\n",
    "            while done==False:\n",
    "                action = self.exploration_exploitation(observation)\n",
    "                next_observation, reward, terminated,done, info = self.env.step(action)\n",
    "                next_observation = self.discretizer(*next_observation)\n",
    "                self.learn_environment(observation, action, reward, next_observation, episode)\n",
    "                ep_reward += reward\n",
    "                observation = next_observation\n",
    "            with writer.as_default():\n",
    "                tf.summary.scalar(\"reward\", ep_reward, step=(episode+1))\n",
    "                writer.flush()\n",
    "            if(episode+1) == 10000:\n",
    "                self.env.render(mode=\"human\")\n",
    "        self.env.close()\n",
    "    \n",
    "\n",
    "\n",
    "    "
   ]
  },
  {
   "attachments": {},
   "cell_type": "markdown",
   "metadata": {},
   "source": [
    "https://www.datacamp.com/tutorial/introduction-q-learning-beginner-tutorial"
   ]
  },
  {
   "cell_type": "code",
   "execution_count": 33,
   "metadata": {},
   "outputs": [],
   "source": [
    "# define Environments\n",
    "\n",
    "env = gym.make(\"CartPole-v1\")\n",
    "agent = QAgent(env=env)\n",
    "\n"
   ]
  },
  {
   "cell_type": "code",
   "execution_count": 34,
   "metadata": {},
   "outputs": [],
   "source": [
    "agent.train()"
   ]
  }
 ],
 "metadata": {
  "kernelspec": {
   "display_name": "ml",
   "language": "python",
   "name": "python3"
  },
  "language_info": {
   "codemirror_mode": {
    "name": "ipython",
    "version": 3
   },
   "file_extension": ".py",
   "mimetype": "text/x-python",
   "name": "python",
   "nbconvert_exporter": "python",
   "pygments_lexer": "ipython3",
   "version": "3.9.15"
  },
  "orig_nbformat": 4
 },
 "nbformat": 4,
 "nbformat_minor": 2
}
